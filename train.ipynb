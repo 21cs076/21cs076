{
  "cells": [
    {
      "cell_type": "markdown",
      "metadata": {
        "id": "view-in-github",
        "colab_type": "text"
      },
      "source": [
        "<a href=\"https://colab.research.google.com/github/21cs076/21cs076/blob/main/train.ipynb\" target=\"_parent\"><img src=\"https://colab.research.google.com/assets/colab-badge.svg\" alt=\"Open In Colab\"/></a>"
      ]
    },
    {
      "cell_type": "code",
      "execution_count": null,
      "metadata": {
        "id": "Ewl1p47Skgdv",
        "collapsed": true
      },
      "outputs": [],
      "source": [
        "!pip install ultralytics"
      ]
    },
    {
      "cell_type": "code",
      "source": [
        "!pip install roboflow\n",
        "\n",
        "from roboflow import Roboflow\n",
        "rf = Roboflow(api_key=\"4MptKsSsONT0fnQsIDc2\")\n",
        "project = rf.workspace(\"deslizamentos\").project(\"landslide-detection-augmentation\")\n",
        "version = project.version(12)\n",
        "dataset = version.download(\"yolov11\")"
      ],
      "metadata": {
        "collapsed": true,
        "id": "NikWQ4stMuQM"
      },
      "execution_count": null,
      "outputs": []
    },
    {
      "cell_type": "code",
      "source": [
        "import albumentations as A\n",
        "import cv2\n",
        "import os\n",
        "import numpy as np\n",
        "\n",
        "# Define augmentation pipeline\n",
        "transform = A.Compose([\n",
        "    A.HorizontalFlip(p=0.5),\n",
        "    A.VerticalFlip(p=0.5),\n",
        "    A.Rotate(limit=40, p=0.5),\n",
        "    A.RandomBrightnessContrast(p=0.2),\n",
        "], bbox_params=A.BboxParams(format='yolo', label_fields=['class_labels'], min_visibility=0.2))\n",
        "\n",
        "def read_label(label_path):\n",
        "    labels = []\n",
        "    with open(label_path, 'r') as file:\n",
        "        for line in file.readlines():\n",
        "            if line.strip():\n",
        "                class_id, x, y, w, h = map(float, line.strip().split())\n",
        "                labels.append([class_id, x, y, w, h])\n",
        "    return np.array(labels)\n",
        "\n",
        "def save_label(label_path, labels):\n",
        "    with open(label_path, 'w') as file:\n",
        "        for label in labels:\n",
        "            file.write(' '.join(map(str, label)) + '\\n')\n",
        "\n",
        "def augment_and_save(image_path, label_path, save_image_path, save_label_path, transform, num_augmented):\n",
        "    image = cv2.imread(image_path)\n",
        "    labels = read_label(label_path)\n",
        "\n",
        "    if labels.size == 0:  # Skip augmentation if no labels are found\n",
        "        return\n",
        "\n",
        "    class_labels = labels[:, 0]\n",
        "    bboxes = labels[:, 1:]\n",
        "\n",
        "    for i in range(num_augmented):\n",
        "        transformed = transform(image=image, bboxes=bboxes, class_labels=class_labels)\n",
        "        augmented_image = transformed['image']\n",
        "        augmented_bboxes = transformed['bboxes']\n",
        "\n",
        "        if len(augmented_bboxes) == 0:  # Skip if no bounding boxes remain after augmentation\n",
        "            continue\n",
        "\n",
        "        augmented_labels = np.hstack((np.array(transformed['class_labels'])[:, np.newaxis], augmented_bboxes))\n",
        "\n",
        "        augmented_image_path = os.path.join(save_image_path, f\"aug_{i}_{os.path.basename(image_path)}\")\n",
        "        augmented_label_path = os.path.join(save_label_path, f\"aug_{i}_{os.path.basename(label_path)}\")\n",
        "\n",
        "        cv2.imwrite(augmented_image_path, augmented_image)\n",
        "        save_label(augmented_label_path, augmented_labels)\n",
        "\n",
        "# Paths to your dataset images and labels\n",
        "dataset_image_path = f\"{dataset.location}/train/images\"\n",
        "dataset_label_path = f\"{dataset.location}/train/labels\"\n",
        "augmented_image_path = f\"{dataset.location}/aug/images\"\n",
        "augmented_label_path = f\"{dataset.location}/aug/labels\"\n",
        "\n",
        "os.makedirs(augmented_image_path, exist_ok=True)\n",
        "os.makedirs(augmented_label_path, exist_ok=True)\n",
        "\n",
        "# Augment each image and its corresponding label in the dataset\n",
        "for image_name in os.listdir(dataset_image_path):\n",
        "    image_path = os.path.join(dataset_image_path, image_name)\n",
        "    label_path = os.path.join(dataset_label_path, image_name.replace('.jpg', '.txt'))\n",
        "    augment_and_save(image_path, label_path, augmented_image_path, augmented_label_path, transform, num_augmented=5)"
      ],
      "metadata": {
        "id": "kplnsJ3h2e24"
      },
      "execution_count": null,
      "outputs": []
    },
    {
      "cell_type": "code",
      "source": [
        "import shutil\n",
        "import os\n",
        "\n",
        "# Ensure the augmented directories exist\n",
        "os.makedirs(augmented_image_path, exist_ok=True)\n",
        "os.makedirs(augmented_label_path, exist_ok=True)\n",
        "\n",
        "# Copy original images to the augmented images directory\n",
        "for image_name in os.listdir(dataset_image_path):\n",
        "    src_image_path = os.path.join(dataset_image_path, image_name)\n",
        "    dst_image_path = os.path.join(augmented_image_path, image_name)\n",
        "    shutil.copy(src_image_path, dst_image_path)\n",
        "\n",
        "# Copy original labels to the augmented labels directory\n",
        "for label_name in os.listdir(dataset_label_path):\n",
        "    src_label_path = os.path.join(dataset_label_path, label_name)\n",
        "    dst_label_path = os.path.join(augmented_label_path, label_name)\n",
        "    shutil.copy(src_label_path, dst_label_path)\n",
        "\n",
        "\n",
        "import yaml\n",
        "data = {\n",
        "    'train': f\"{dataset.location}/aug/images\",\n",
        "    'val': f\"{dataset.location}/valid/images\",\n",
        "    'test': f\"{dataset.location}/test/images\",\n",
        "    'nc': 2,\n",
        "    'names': ['Fissure', 'Landslide']\n",
        "}\n",
        "with open(f\"{dataset.location}/data.yaml\", 'w') as file:\n",
        "    yaml.dump(data, file, default_flow_style=False)"
      ],
      "metadata": {
        "id": "jm71ZEHU2gU6"
      },
      "execution_count": null,
      "outputs": []
    },
    {
      "cell_type": "code",
      "execution_count": null,
      "metadata": {
        "id": "SdGtmANZkgdz",
        "collapsed": true
      },
      "outputs": [],
      "source": [
        "from ultralytics import YOLO\n",
        "from google.colab import files\n",
        "\n",
        "model = YOLO(\"yolo11m.pt\")\n",
        "model.train(\n",
        "    data = f\"{dataset.location}/data.yaml\",  # Path to your data.yaml file\n",
        "    epochs=70,  # Number of epochs (adjust based on your needs)\n",
        "    batch=16,   # Batch size (adjust based on GPU memory), (16), 32, 64, 128\n",
        "    imgsz=640,  # Image size for training ((640 is a good choice), 736)\n",
        "    project = f\"{dataset.location}\",  # Directory to save training results\n",
        "    name=\"runs\",  # Name for the training run\n",
        "    exist_ok=True  # Overwrite existing results if any\n",
        ")\n",
        "files.download(f\"{dataset.location}/runs/weights/best.pt\")"
      ]
    },
    {
      "cell_type": "code",
      "source": [
        "from ultralytics import YOLO\n",
        "#model = YOLO(f\"{dataset.location}/runs/weights/best.pt\")\n",
        "model = YOLO(\"/content/drive/MyDrive/models/lbest50s(2).pt\")\n",
        "\n",
        "metrics = model.val(data=f\"{dataset.location}/data.yaml\", split='test')\n",
        "print(f\"mAP50: {metrics.box.map50}\") # mAP refers to the Average Precision at a single IoU threshold, often 50%.\n",
        "print(f\"mAP75: {metrics.box.map75}\") # mAP at IoU threshold of 75% (mAP75)"
      ],
      "metadata": {
        "id": "mbGLQqWq_7hk",
        "outputId": "7d244dc8-4bca-4ced-fe3e-5b2251199749",
        "colab": {
          "base_uri": "https://localhost:8080/"
        }
      },
      "execution_count": 7,
      "outputs": [
        {
          "output_type": "stream",
          "name": "stdout",
          "text": [
            "Ultralytics 8.3.65 🚀 Python-3.11.11 torch-2.5.1+cu121 CPU (Intel Xeon 2.20GHz)\n",
            "YOLO11s summary (fused): 238 layers, 9,413,574 parameters, 0 gradients, 21.3 GFLOPs\n"
          ]
        },
        {
          "output_type": "stream",
          "name": "stderr",
          "text": [
            "\u001b[34m\u001b[1mval: \u001b[0mScanning /content/Landslide-Detection-Augmentation-12/test/labels.cache... 60 images, 21 backgrounds, 0 corrupt: 100%|██████████| 60/60 [00:00<?, ?it/s]\n",
            "                 Class     Images  Instances      Box(P          R      mAP50  mAP50-95): 100%|██████████| 4/4 [00:30<00:00,  7.51s/it]\n"
          ]
        },
        {
          "output_type": "stream",
          "name": "stdout",
          "text": [
            "                   all         60         97      0.616      0.376      0.464      0.205\n",
            "               Fissure         19         30      0.648      0.333      0.428      0.183\n",
            "             Landslide         30         67      0.585      0.418      0.499      0.227\n",
            "Speed: 3.6ms preprocess, 457.8ms inference, 0.0ms loss, 0.6ms postprocess per image\n",
            "Results saved to \u001b[1mruns/detect/val4\u001b[0m\n",
            "mAP50: 0.4637439936290402\n",
            "mAP75: 0.12075546551375248\n"
          ]
        }
      ]
    },
    {
      "cell_type": "code",
      "source": [
        "from google.colab import drive\n",
        "drive.mount('/content/drive')"
      ],
      "metadata": {
        "id": "wuVPG_XJdVH7",
        "outputId": "c78ef821-08d7-4e43-f347-75ac5981147a",
        "colab": {
          "base_uri": "https://localhost:8080/"
        }
      },
      "execution_count": 3,
      "outputs": [
        {
          "output_type": "stream",
          "name": "stdout",
          "text": [
            "Mounted at /content/drive\n"
          ]
        }
      ]
    },
    {
      "cell_type": "code",
      "source": [
        "import locale\n",
        "locale.setlocale(locale.LC_ALL, 'en_US.UTF-8')  # Set the locale to a UTF-8 compatible one\n",
        "\n",
        "import subprocess\n",
        "import sys\n",
        "def install(package):\n",
        "    subprocess.check_call([sys.executable, \"-m\", \"pip\", \"install\", package])\n",
        "install(\"onnx\") # Installing onnx package\n",
        "\n",
        "import torch\n",
        "import onnx\n",
        "import numpy as np\n",
        "from google.colab import files\n",
        "\n",
        "onnx_model_path = f\"{dataset.location}/best.onnx\"\n",
        "torch.onnx.export(\n",
        "    model,\n",
        "    torch.randn(1, 3, 640, 640),  # Dummy input for the model\n",
        "    onnx_model_path,\n",
        "    opset_version=11,\n",
        "    input_names=[\"input\"],\n",
        "    output_names=[\"output\"]\n",
        ")\n",
        "\n",
        "files.download(f\"{dataset.location}/best.onnx\")"
      ],
      "metadata": {
        "id": "BMxjjxn25aAw"
      },
      "execution_count": null,
      "outputs": []
    },
    {
      "cell_type": "code",
      "execution_count": null,
      "metadata": {
        "id": "nHYVsTg_kgd0"
      },
      "outputs": [],
      "source": [
        "# Clone YOLOv8 repository\n",
        "!git clone https://github.com/ultralytics/ultralytics.git\n",
        "%cd ultralytics"
      ]
    }
  ],
  "metadata": {
    "language_info": {
      "name": "python"
    },
    "colab": {
      "provenance": [],
      "gpuType": "T4",
      "include_colab_link": true
    },
    "kernelspec": {
      "name": "python3",
      "display_name": "Python 3"
    },
    "accelerator": "GPU"
  },
  "nbformat": 4,
  "nbformat_minor": 0
}